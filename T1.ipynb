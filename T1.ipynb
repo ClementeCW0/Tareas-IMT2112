{
 "cells": [
  {
   "cell_type": "markdown",
   "id": "3ffac316-7051-427f-a72b-63006a67a735",
   "metadata": {},
   "source": [
    "# Tarea 1\n",
    "## Clemente Wacquez\n",
    "---"
   ]
  },
  {
   "cell_type": "markdown",
   "id": "6ca0ce3f-36ec-4575-bbe6-b4c1e596cbc3",
   "metadata": {},
   "source": [
    "\n",
    "### Pregunta 1\n",
    "El cuaderno compilado se encuentra adjunto como `ejecucion.ipynb`. Se utilizaron 20.000 registros y $k=7$\n",
    "\n",
    "---"
   ]
  },
  {
   "cell_type": "markdown",
   "id": "9be07580-5907-4be3-bea2-3c5351461398",
   "metadata": {},
   "source": [
    "### Pregunta 2 \n",
    "El código presentado no tiene ninguna implementación de paralelismo. Esto puede deducirse dado que python no puede realizar paralelismo con sus librerias estándar y no se importa ninguna librería adicional que permita realizar paralelismo en el código.\n",
    "\n",
    "---"
   ]
  },
  {
   "cell_type": "markdown",
   "id": "6d072136-5444-4b1a-9f8a-cb4111cce247",
   "metadata": {},
   "source": [
    "### Pregunta 3\n",
    "Copiamos las celdas que nos permiten generar los datos"
   ]
  },
  {
   "cell_type": "code",
   "execution_count": 1,
   "id": "7efad539-54a0-4aef-847d-3d655a151b79",
   "metadata": {},
   "outputs": [],
   "source": [
    "import numpy as np\n",
    "from scipy.spatial.distance import cdist"
   ]
  },
  {
   "cell_type": "code",
   "execution_count": 2,
   "id": "627fa71c-abe5-4945-b90d-9de1db3813bf",
   "metadata": {},
   "outputs": [
    {
     "name": "stdout",
     "output_type": "stream",
     "text": [
      "Created a dataset that represents 3 clusters in 2 dimensions.\n"
     ]
    }
   ],
   "source": [
    "from sklearn.datasets import make_blobs\n",
    "n_points = 20_000\n",
    "n_clusters = 3\n",
    "np.random.seed(0)\n",
    "dataset, _ = make_blobs(n_samples=n_points, n_features=2, centers=n_clusters)\n",
    "print(\"Created a dataset that represents\", n_clusters, \"clusters in\", dataset.shape[1], \"dimensions.\")"
   ]
  },
  {
   "cell_type": "code",
   "execution_count": 3,
   "id": "691267f2-e55b-4e7a-a261-2cdc4587dfc6",
   "metadata": {},
   "outputs": [],
   "source": [
    "k = 7\n",
    "centers = np.zeros([k, 2])\n",
    "for c in range(k):\n",
    "    centers[c,0] = float(c+1)/(k+1)\n",
    "    centers[c,1] = 0.0\n",
    "\n",
    "max_iterations = 1000"
   ]
  },
  {
   "cell_type": "markdown",
   "id": "311b3183-677d-4a04-9f07-593097d6faaf",
   "metadata": {},
   "source": [
    "A continuación, definiremos dos funciones: `k_medidas` y `k_medidas_numpy`, la primera corresponde a la implementación del algoritmo de $k$-medidas que se entregó de ejemplo y la segunda la reimplementación utilizando funciones de la librería `numpy` . Las porciones con código modificado se encuentran comentadas con `##`."
   ]
  },
  {
   "cell_type": "code",
   "execution_count": 4,
   "id": "b21dd5bb-7129-49c2-8761-341730b52b17",
   "metadata": {},
   "outputs": [],
   "source": [
    "def k_medias(data, k):\n",
    "    \n",
    "    centers = np.zeros([k, 2])\n",
    "    for c in range(k):\n",
    "        centers[c,0] = float(c+1)/(k+1)\n",
    "        centers[c,1] = 0.0\n",
    "    \n",
    "    max_iterations = 1000\n",
    "    \n",
    "    # store the history of centers and clusters\n",
    "    history_of_centers = [centers]\n",
    "    history_of_clusters = []\n",
    "    \n",
    "    for iteration in range(max_iterations):\n",
    "        \n",
    "        old_centers = history_of_centers[-1]\n",
    "    \n",
    "        # assignment step\n",
    "        cluster = np.zeros(n_points, dtype='int')\n",
    "        for p in range(n_points):\n",
    "            minimum_distance = np.inf\n",
    "            nearest_cluster = None\n",
    "            for c in range(k):\n",
    "                distance_to_cluster_c = np.sqrt((data[p,0] - old_centers[c,0])**2 + (data[p,1] - old_centers[c,1])**2)\n",
    "                if distance_to_cluster_c < minimum_distance:\n",
    "                    minimum_distance = distance_to_cluster_c\n",
    "                    nearest_cluster = c\n",
    "            cluster[p] = nearest_cluster\n",
    "        history_of_clusters.append(cluster)\n",
    "        \n",
    "        # check convergence\n",
    "        if iteration > 0:\n",
    "            clusters_changed = False\n",
    "            for p in range(n_points):\n",
    "                if history_of_clusters[-1][p] != history_of_clusters[-2][p]:\n",
    "                    clusters_changed = True\n",
    "            if not clusters_changed:\n",
    "                print(\"Converged in\", iteration, \"iterations.\\n\")\n",
    "                break\n",
    "    \n",
    "        # update step\n",
    "        number_of_points_in_cluster = np.zeros(k, dtype='int')\n",
    "        sum_of_locations = np.zeros([k, 2], dtype='float')\n",
    "        for p in range(n_points):\n",
    "            number_of_points_in_cluster[cluster[p]] += 1\n",
    "            sum_of_locations[cluster[p], :] += data[p, :]\n",
    "        new_centers = np.zeros([k, 2], dtype='float')\n",
    "        for c in range(k):\n",
    "            new_centers[c,0] = sum_of_locations[c,0] / number_of_points_in_cluster[c]\n",
    "            new_centers[c,1] = sum_of_locations[c,1] / number_of_points_in_cluster[c]\n",
    "        history_of_centers.append(new_centers)\n",
    "    \n",
    "    if iteration == max_iterations-1:\n",
    "        print(\"The algorithm did not converge in\", max_iterations, \"iterations.\")\n",
    "\n",
    "    else:\n",
    "        return history_of_clusters[-1], history_of_centers[-1]"
   ]
  },
  {
   "cell_type": "code",
   "execution_count": 5,
   "id": "06c14dd1-7242-4d5e-9fe1-aab51d208b0e",
   "metadata": {
    "editable": true,
    "slideshow": {
     "slide_type": ""
    },
    "tags": []
   },
   "outputs": [],
   "source": [
    "def k_medias_numpy(data, k):\n",
    "    \n",
    "    centers = np.zeros([k, 2])\n",
    "    for c in range(k):\n",
    "        centers[c,0] = float(c+1)/(k+1)\n",
    "        centers[c,1] = 0.0\n",
    "    \n",
    "    max_iterations = 1000\n",
    "    \n",
    "    # store the history of centers and clusters\n",
    "    ## Cambiamos los tipos de los historiales a np.array\n",
    "    history_of_centers = np.array([centers])\n",
    "    history_of_clusters = np.empty((0, n_points))\n",
    "    \n",
    "    for iteration in range(max_iterations):\n",
    "        \n",
    "        old_centers = history_of_centers[-1]\n",
    "    \n",
    "        # assignment step\n",
    "        ## Calculamos las distancias que hay entre los registros y los centros utilizando cdist\n",
    "        dist_matrix = cdist(data, old_centers)\n",
    "        i = 0\n",
    "        cluster = np.zeros(n_points, dtype='int')\n",
    "        for row in dist_matrix:\n",
    "            ## Utilizamos np.argmin para obtener el índice del centro más cercano \n",
    "            c = np.argmin(row)\n",
    "            cluster[i] = c\n",
    "            i += 1\n",
    "        ## Añadimos el cluster al historial utilizando np.vstack\n",
    "        history_of_clusters = np.vstack([history_of_clusters, cluster])\n",
    "    \n",
    "        if iteration > 0:\n",
    "            clusters_changed = False\n",
    "            ## Chequeamos si los clusters cambiaron utilizando np.array_equal\n",
    "            if not np.array_equal(history_of_clusters[-1], history_of_clusters[-2]):\n",
    "                clusters_changed = True\n",
    "            if not clusters_changed:\n",
    "                print(\"Converged in\", iteration, \"iterations.\\n\")\n",
    "                break\n",
    "    \n",
    "        # update step\n",
    "        ## Eliminamos el loop utilizando la función np.mean y el hecho que el arreglo `cluster==center`\n",
    "        ## nos entregará los valores en el data que pertenecen al centro `center`\n",
    "        new_centers = np.array([np.mean(data[cluster == center], axis=0) for center in range(k)])\n",
    "        history_of_centers = np.append(history_of_centers, [new_centers], axis=0)\n",
    "    \n",
    "    if iteration == max_iterations-1:\n",
    "        print(\"The algorithm did not converge in\", max_iterations, \"iterations.\")\n",
    "    else:\n",
    "        return history_of_clusters[-1], history_of_centers[-1]"
   ]
  },
  {
   "cell_type": "markdown",
   "id": "e1ee687f-f79e-47c5-aedd-546a6d315bd2",
   "metadata": {},
   "source": [
    "---"
   ]
  },
  {
   "cell_type": "markdown",
   "id": "a1b38bb0-6827-474b-b274-772c917c00cf",
   "metadata": {},
   "source": [
    "### Pregunta 4\n",
    "#### Comparación de tiempos\n",
    "Sin `numpy`:"
   ]
  },
  {
   "cell_type": "code",
   "execution_count": 6,
   "id": "3ec3b40d-c495-4a3f-a904-49ebc408fdd7",
   "metadata": {},
   "outputs": [
    {
     "name": "stdout",
     "output_type": "stream",
     "text": [
      "Converged in 69 iterations.\n",
      "\n",
      "CPU times: user 51.2 s, sys: 24.8 ms, total: 51.2 s\n",
      "Wall time: 51.4 s\n"
     ]
    },
    {
     "data": {
      "text/plain": [
       "(array([5, 2, 0, ..., 6, 6, 6], shape=(20000,)),\n",
       " array([[-2.42643815,  3.16739782],\n",
       "        [-0.4525531 ,  4.1582162 ],\n",
       "        [-1.12449342,  2.0582954 ],\n",
       "        [ 1.40197533,  4.92862   ],\n",
       "        [ 1.45500616,  0.35161267],\n",
       "        [ 1.41441328,  2.92325992],\n",
       "        [ 2.9391587 ,  1.05490536]]))"
      ]
     },
     "execution_count": 6,
     "metadata": {},
     "output_type": "execute_result"
    }
   ],
   "source": [
    "%%time\n",
    "k_medias(dataset, k)"
   ]
  },
  {
   "cell_type": "markdown",
   "id": "80a51141-17c9-4e70-8ea7-34e9063b7bd2",
   "metadata": {},
   "source": [
    "Con `numpy`"
   ]
  },
  {
   "cell_type": "code",
   "execution_count": 7,
   "id": "5b3f5a01-e185-4647-b50f-f120a9000c98",
   "metadata": {},
   "outputs": [
    {
     "name": "stdout",
     "output_type": "stream",
     "text": [
      "Converged in 69 iterations.\n",
      "\n",
      "CPU times: user 6.48 s, sys: 59.4 ms, total: 6.54 s\n",
      "Wall time: 6.59 s\n"
     ]
    },
    {
     "data": {
      "text/plain": [
       "(array([5., 2., 0., ..., 6., 6., 6.], shape=(20000,)),\n",
       " array([[-2.42643815,  3.16739782],\n",
       "        [-0.4525531 ,  4.1582162 ],\n",
       "        [-1.12449342,  2.0582954 ],\n",
       "        [ 1.40197533,  4.92862   ],\n",
       "        [ 1.45500616,  0.35161267],\n",
       "        [ 1.41441328,  2.92325992],\n",
       "        [ 2.9391587 ,  1.05490536]]))"
      ]
     },
     "execution_count": 7,
     "metadata": {},
     "output_type": "execute_result"
    }
   ],
   "source": [
    "%%time\n",
    "k_medias_numpy(dataset, k)"
   ]
  },
  {
   "cell_type": "markdown",
   "id": "2453c25e-1728-4c44-bab4-488978e6a4db",
   "metadata": {},
   "source": [
    "a) El código no corre ninguna parte en paralelo, incluso las funciones de `numpy` y `scipy` utilizadas corren en un solo hilo. [referencia](google.com).\n",
    "\n",
    "b) La diferencia de tiempos observadas en el sistema en que se corrió este código fue de 42.35 segundos. La implementación con `numpy` fué más de 7 veces más rápida que la original.\n",
    "\n",
    "---"
   ]
  },
  {
   "cell_type": "markdown",
   "id": "4600f0f5-74e5-4d71-a957-6b91bd1d102c",
   "metadata": {},
   "source": [
    "### Pegunta 5\n",
    "Definimos una función para calcular la dispersión dado el output de las funciones definidas en las celdas anteriores. Se asume que "
   ]
  },
  {
   "cell_type": "code",
   "execution_count": 8,
   "id": "129e9d46-7034-458b-b64b-193c1f0c03ce",
   "metadata": {},
   "outputs": [],
   "source": [
    "def dispersion(data, clusters, centers):\n",
    "    pass"
   ]
  },
  {
   "cell_type": "code",
   "execution_count": 13,
   "id": "40f9f018-4125-4038-8da5-3de29bfe0789",
   "metadata": {},
   "outputs": [],
   "source": [
    "def calc_dispersion(data, k):\n",
    "    print(\"k =\", k, end=\": \")\n",
    "    cluster, centers = k_medias_numpy(data, k)\n",
    "    dispersion = 0.0\n",
    "    for i in range(centers.shape[0]):\n",
    "        dispersion += np.sum( np.linalg.norm( data[cluster==i, :] - centers[i,:], axis=1 ) )\n",
    "    return dispersion"
   ]
  },
  {
   "cell_type": "markdown",
   "id": "f8e1dee4-1242-4bd5-87bb-d10103bbb5c4",
   "metadata": {},
   "source": [
    "Ahora graficamos la dispersión para distintos valores de $k$:"
   ]
  },
  {
   "cell_type": "code",
   "execution_count": 14,
   "id": "ed391da6-11e5-44d7-88d3-e7b6e4e832aa",
   "metadata": {},
   "outputs": [
    {
     "name": "stdout",
     "output_type": "stream",
     "text": [
      "k = 2: Converged in 15 iterations.\n",
      "\n",
      "k = 3: Converged in 11 iterations.\n",
      "\n",
      "k = 4: Converged in 74 iterations.\n",
      "\n",
      "k = 5: Converged in 84 iterations.\n",
      "\n",
      "k = 6: Converged in 109 iterations.\n",
      "\n",
      "k = 7: Converged in 69 iterations.\n",
      "\n",
      "k = 8: Converged in 117 iterations.\n",
      "\n",
      "k = 9: Converged in 115 iterations.\n",
      "\n",
      "k = 10: Converged in 96 iterations.\n",
      "\n",
      "k = 11: Converged in 107 iterations.\n",
      "\n",
      "k = 12: Converged in 84 iterations.\n",
      "\n",
      "k = 13: Converged in 79 iterations.\n",
      "\n",
      "k = 14: Converged in 89 iterations.\n",
      "\n",
      "k = 15: Converged in 135 iterations.\n",
      "\n",
      "k = 16: Converged in 133 iterations.\n",
      "\n",
      "k = 17: Converged in 100 iterations.\n",
      "\n",
      "k = 18: Converged in 130 iterations.\n",
      "\n",
      "k = 19: Converged in 110 iterations.\n",
      "\n",
      "k = 20: Converged in 62 iterations.\n",
      "\n",
      "k = 21: Converged in 88 iterations.\n",
      "\n",
      "k = 22: Converged in 99 iterations.\n",
      "\n",
      "k = 23: Converged in 111 iterations.\n",
      "\n",
      "k = 24: Converged in 93 iterations.\n",
      "\n",
      "k = 25: Converged in 85 iterations.\n",
      "\n"
     ]
    },
    {
     "data": {
      "image/png": "[encoded data removed]",
      "text/plain": [
       "<Figure size 640x480 with 1 Axes>"
      ]
     },
     "metadata": {},
     "output_type": "display_data"
    }
   ],
   "source": [
    "import matplotlib.pyplot as plt\n",
    "x = [i for i in range(2, 26)]\n",
    "y = [calc_dispersion(dataset, i) for i in range(2, 26)]\n",
    "\n",
    "plt.plot(x,y)\n",
    "plt.show()"
   ]
  },
  {
   "cell_type": "code",
   "execution_count": null,
   "id": "adc0adcd-3141-4fc3-bec8-053239be2998",
   "metadata": {},
   "outputs": [],
   "source": []
  }
 ],
 "metadata": {
  "kernelspec": {
   "display_name": "Python 3 (ipykernel)",
   "language": "python",
   "name": "python3"
  },
  "language_info": {
   "codemirror_mode": {
    "name": "ipython",
    "version": 3
   },
   "file_extension": ".py",
   "mimetype": "text/x-python",
   "name": "python",
   "nbconvert_exporter": "python",
   "pygments_lexer": "ipython3",
   "version": "3.13.5"
  }
 },
 "nbformat": 4,
 "nbformat_minor": 5
}
