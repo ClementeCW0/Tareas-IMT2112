{
 "cells": [
  {
   "cell_type": "markdown",
   "id": "3ffac316-7051-427f-a72b-63006a67a735",
   "metadata": {},
   "source": [
    "# Tarea 1 IMT2112 - Clemente Wacquez\n",
    "---"
   ]
  },
  {
   "cell_type": "markdown",
   "id": "6ca0ce3f-36ec-4575-bbe6-b4c1e596cbc3",
   "metadata": {},
   "source": [
    "\n",
    "### Pregunta 1\n",
    "El cuaderno compilado se encuentra adjunto como `ejecucion.ipynb`. Se utilizaron 20.000 registros y $k=7$\n",
    "\n",
    "---"
   ]
  },
  {
   "cell_type": "markdown",
   "id": "9be07580-5907-4be3-bea2-3c5351461398",
   "metadata": {},
   "source": [
    "### Pregunta 2 \n",
    "El código presentado no tiene ninguna implementación de paralelismo. Esto puede deducirse dado que python no puede realizar paralelismo con sus librerias estándar y no se importa ninguna librería adicional que permita realizar paralelismo en el código.\n",
    "\n",
    "---"
   ]
  },
  {
   "cell_type": "markdown",
   "id": "6d072136-5444-4b1a-9f8a-cb4111cce247",
   "metadata": {},
   "source": [
    "### Pregunta 3\n",
    "Copiamos las celdas que nos permiten generar los datos"
   ]
  },
  {
   "cell_type": "code",
   "execution_count": 1,
   "id": "7efad539-54a0-4aef-847d-3d655a151b79",
   "metadata": {},
   "outputs": [],
   "source": [
    "import numpy as np\n",
    "from scipy.spatial.distance import cdist"
   ]
  },
  {
   "cell_type": "code",
   "execution_count": 2,
   "id": "627fa71c-abe5-4945-b90d-9de1db3813bf",
   "metadata": {},
   "outputs": [
    {
     "name": "stdout",
     "output_type": "stream",
     "text": [
      "Created a dataset that represents 3 clusters in 2 dimensions.\n"
     ]
    }
   ],
   "source": [
    "from sklearn.datasets import make_blobs\n",
    "n_points = 20_000\n",
    "n_clusters = 3\n",
    "np.random.seed(0)\n",
    "dataset, _ = make_blobs(n_samples=n_points, n_features=2, centers=n_clusters)\n",
    "print(\"Created a dataset that represents\", n_clusters, \"clusters in\", dataset.shape[1], \"dimensions.\")"
   ]
  },
  {
   "cell_type": "code",
   "execution_count": 3,
   "id": "691267f2-e55b-4e7a-a261-2cdc4587dfc6",
   "metadata": {},
   "outputs": [],
   "source": [
    "k = 7\n",
    "centers = np.zeros([k, 2])\n",
    "for c in range(k):\n",
    "    centers[c,0] = float(c+1)/(k+1)\n",
    "    centers[c,1] = 0.0\n",
    "\n",
    "max_iterations = 1000"
   ]
  },
  {
   "cell_type": "markdown",
   "id": "311b3183-677d-4a04-9f07-593097d6faaf",
   "metadata": {},
   "source": [
    "A continuación, definiremos dos funciones: `k_medidas` y `k_medidas_numpy`, la primera corresponde a la implementación del algoritmo de $k$-medidas que se entregó de ejemplo y la segunda la reimplementación utilizando funciones de la librería `numpy` . Las porciones con código modificado se encuentran comentadas con `##`."
   ]
  },
  {
   "cell_type": "code",
   "execution_count": 4,
   "id": "b21dd5bb-7129-49c2-8761-341730b52b17",
   "metadata": {},
   "outputs": [],
   "source": [
    "def k_medias(data, k, verbosity=False):\n",
    "    \n",
    "    centers = np.zeros([k, 2])\n",
    "    for c in range(k):\n",
    "        centers[c,0] = float(c+1)/(k+1)\n",
    "        centers[c,1] = 0.0\n",
    "    \n",
    "    max_iterations = 1000\n",
    "    \n",
    "    # store the history of centers and clusters\n",
    "    history_of_centers = [centers]\n",
    "    history_of_clusters = []\n",
    "    \n",
    "    for iteration in range(max_iterations):\n",
    "        \n",
    "        old_centers = history_of_centers[-1]\n",
    "    \n",
    "        # assignment step\n",
    "        cluster = np.zeros(n_points, dtype='int')\n",
    "        for p in range(n_points):\n",
    "            minimum_distance = np.inf\n",
    "            nearest_cluster = None\n",
    "            for c in range(k):\n",
    "                distance_to_cluster_c = np.sqrt((data[p,0] - old_centers[c,0])**2 + (data[p,1] - old_centers[c,1])**2)\n",
    "                if distance_to_cluster_c < minimum_distance:\n",
    "                    minimum_distance = distance_to_cluster_c\n",
    "                    nearest_cluster = c\n",
    "            cluster[p] = nearest_cluster\n",
    "        history_of_clusters.append(cluster)\n",
    "        \n",
    "        # check convergence\n",
    "        if iteration > 0:\n",
    "            clusters_changed = False\n",
    "            for p in range(n_points):\n",
    "                if history_of_clusters[-1][p] != history_of_clusters[-2][p]:\n",
    "                    clusters_changed = True\n",
    "            if not clusters_changed:\n",
    "                if verbosity:\n",
    "                    print(\"Converged in\", iteration, \"iterations.\\n\")\n",
    "                break\n",
    "    \n",
    "        # update step\n",
    "        number_of_points_in_cluster = np.zeros(k, dtype='int')\n",
    "        sum_of_locations = np.zeros([k, 2], dtype='float')\n",
    "        for p in range(n_points):\n",
    "            number_of_points_in_cluster[cluster[p]] += 1\n",
    "            sum_of_locations[cluster[p], :] += data[p, :]\n",
    "        new_centers = np.zeros([k, 2], dtype='float')\n",
    "        for c in range(k):\n",
    "            new_centers[c,0] = sum_of_locations[c,0] / number_of_points_in_cluster[c]\n",
    "            new_centers[c,1] = sum_of_locations[c,1] / number_of_points_in_cluster[c]\n",
    "        history_of_centers.append(new_centers)\n",
    "    \n",
    "    if iteration == max_iterations-1:\n",
    "        if verbosity:\n",
    "            print(\"The algorithm did not converge in\", max_iterations, \"iterations.\")\n",
    "\n",
    "    else:\n",
    "        return history_of_clusters[-1], history_of_centers[-1]"
   ]
  },
  {
   "cell_type": "code",
   "execution_count": 5,
   "id": "06c14dd1-7242-4d5e-9fe1-aab51d208b0e",
   "metadata": {
    "editable": true,
    "slideshow": {
     "slide_type": ""
    },
    "tags": []
   },
   "outputs": [],
   "source": [
    "def k_medias_numpy(data, k, verbosity=False):\n",
    "    \n",
    "    centers = np.zeros([k, 2])\n",
    "    for c in range(k):\n",
    "        centers[c,0] = float(c+1)/(k+1)\n",
    "        centers[c,1] = 0.0\n",
    "    \n",
    "    max_iterations = 1000\n",
    "    \n",
    "    # store the history of centers and clusters\n",
    "    ## Cambiamos los tipos de los historiales a np.array\n",
    "    history_of_centers = np.array([centers])\n",
    "    history_of_clusters = np.empty((0, n_points))\n",
    "    \n",
    "    for iteration in range(max_iterations):\n",
    "        \n",
    "        old_centers = history_of_centers[-1]\n",
    "    \n",
    "        # assignment step\n",
    "        ## Calculamos las distancias que hay entre los registros y los centros utilizando cdist\n",
    "        dist_matrix = cdist(data, old_centers)\n",
    "\n",
    "        ## Obtenemos el array `cluster` calculando los índices en que se encuentra el mínimo de\n",
    "        ## cada fila de la matriz `dist_matrix`\n",
    "        cluster = np.argmin(dist_matrix, axis = 1)\n",
    "        \n",
    "        history_of_clusters = np.vstack([history_of_clusters, cluster])\n",
    "    \n",
    "        if iteration > 0:\n",
    "            clusters_changed = False\n",
    "            ## Chequeamos si los clusters cambiaron utilizando np.array_equal\n",
    "            if not np.array_equal(history_of_clusters[-1], history_of_clusters[-2]):\n",
    "                clusters_changed = True\n",
    "            if not clusters_changed:\n",
    "                if verbosity:\n",
    "                    print(\"Converged in\", iteration, \"iterations.\\n\")\n",
    "                break\n",
    "    \n",
    "        # update step\n",
    "        ## Eliminamos el loop utilizando la función np.mean y el hecho que el arreglo `cluster==center`\n",
    "        ## nos entregará los valores en el data que pertenecen al centro `center`\n",
    "        new_centers = np.array([np.mean(data[cluster == center], axis=0) for center in range(k)])\n",
    "        history_of_centers = np.append(history_of_centers, [new_centers], axis=0)\n",
    "    \n",
    "    if iteration == max_iterations-1:\n",
    "        if verbosity:\n",
    "            print(\"The algorithm did not converge in\", max_iterations, \"iterations.\")\n",
    "    else:\n",
    "        return history_of_clusters[-1], history_of_centers[-1]"
   ]
  },
  {
   "cell_type": "markdown",
   "id": "e1ee687f-f79e-47c5-aedd-546a6d315bd2",
   "metadata": {},
   "source": [
    "En la pregunta 4 se puede observar que ambas implementaciones llegan al mismo valor.\n",
    "\n",
    "---"
   ]
  },
  {
   "cell_type": "markdown",
   "id": "a1b38bb0-6827-474b-b274-772c917c00cf",
   "metadata": {},
   "source": [
    "### Pregunta 4\n",
    "#### Comparación de tiempos\n",
    "Sin `numpy`:"
   ]
  },
  {
   "cell_type": "code",
   "execution_count": 6,
   "id": "3ec3b40d-c495-4a3f-a904-49ebc408fdd7",
   "metadata": {},
   "outputs": [
    {
     "name": "stdout",
     "output_type": "stream",
     "text": [
      "Converged in 69 iterations.\n",
      "\n",
      "CPU times: user 50.2 s, sys: 10.5 ms, total: 50.3 s\n",
      "Wall time: 50.4 s\n"
     ]
    },
    {
     "data": {
      "text/plain": [
       "(array([5, 2, 0, ..., 6, 6, 6], shape=(20000,)),\n",
       " array([[-2.42643815,  3.16739782],\n",
       "        [-0.4525531 ,  4.1582162 ],\n",
       "        [-1.12449342,  2.0582954 ],\n",
       "        [ 1.40197533,  4.92862   ],\n",
       "        [ 1.45500616,  0.35161267],\n",
       "        [ 1.41441328,  2.92325992],\n",
       "        [ 2.9391587 ,  1.05490536]]))"
      ]
     },
     "execution_count": 6,
     "metadata": {},
     "output_type": "execute_result"
    }
   ],
   "source": [
    "%%time\n",
    "k_medias(dataset, k, True)"
   ]
  },
  {
   "cell_type": "markdown",
   "id": "80a51141-17c9-4e70-8ea7-34e9063b7bd2",
   "metadata": {},
   "source": [
    "Con `numpy`"
   ]
  },
  {
   "cell_type": "code",
   "execution_count": 7,
   "id": "5b3f5a01-e185-4647-b50f-f120a9000c98",
   "metadata": {},
   "outputs": [
    {
     "name": "stdout",
     "output_type": "stream",
     "text": [
      "Converged in 69 iterations.\n",
      "\n",
      "CPU times: user 564 ms, sys: 62.8 ms, total: 627 ms\n",
      "Wall time: 628 ms\n"
     ]
    },
    {
     "data": {
      "text/plain": [
       "(array([5., 2., 0., ..., 6., 6., 6.], shape=(20000,)),\n",
       " array([[-2.42643815,  3.16739782],\n",
       "        [-0.4525531 ,  4.1582162 ],\n",
       "        [-1.12449342,  2.0582954 ],\n",
       "        [ 1.40197533,  4.92862   ],\n",
       "        [ 1.45500616,  0.35161267],\n",
       "        [ 1.41441328,  2.92325992],\n",
       "        [ 2.9391587 ,  1.05490536]]))"
      ]
     },
     "execution_count": 7,
     "metadata": {},
     "output_type": "execute_result"
    }
   ],
   "source": [
    "%%time\n",
    "k_medias_numpy(dataset, k, True)"
   ]
  },
  {
   "cell_type": "markdown",
   "id": "2453c25e-1728-4c44-bab4-488978e6a4db",
   "metadata": {},
   "source": [
    "a) El código no corre ninguna parte en paralelo, incluso las funciones de `numpy` y `scipy` utilizadas corren en un solo hilo. [referencia](google.com).\n",
    "\n",
    "b) La diferencia de tiempos observadas en el sistema en que se corrió este código fue de 46.689 segundos. La implementación con `numpy` fue más de 77 veces más rápida que la original.\n",
    "\n",
    "---"
   ]
  },
  {
   "cell_type": "markdown",
   "id": "4600f0f5-74e5-4d71-a957-6b91bd1d102c",
   "metadata": {},
   "source": [
    "### Pegunta 5\n",
    "#### a)\n",
    "Definimos una función para calcular la dispersión dado el output de las funciones definidas en las celdas anteriores. Se asume que "
   ]
  },
  {
   "cell_type": "code",
   "execution_count": 8,
   "id": "129e9d46-7034-458b-b64b-193c1f0c03ce",
   "metadata": {},
   "outputs": [],
   "source": [
    "def dispersion(data, clusters, centers):\n",
    "    pass"
   ]
  },
  {
   "cell_type": "code",
   "execution_count": 9,
   "id": "40f9f018-4125-4038-8da5-3de29bfe0789",
   "metadata": {},
   "outputs": [],
   "source": [
    "def calc_dispersion(data, k):\n",
    "    print(k, end=\" \")\n",
    "    cluster, centers = k_medias_numpy(data, k)\n",
    "    dispersion = 0.0\n",
    "    for i in range(centers.shape[0]):\n",
    "        dispersion += np.sum( np.linalg.norm( data[cluster==i, :] - centers[i,:], axis=1 ) )\n",
    "    return dispersion"
   ]
  },
  {
   "cell_type": "markdown",
   "id": "f8e1dee4-1242-4bd5-87bb-d10103bbb5c4",
   "metadata": {},
   "source": [
    "#### b)\n",
    "Ahora graficamos la dispersión para distintos valores de $k$:"
   ]
  },
  {
   "cell_type": "code",
   "execution_count": 10,
   "id": "ed391da6-11e5-44d7-88d3-e7b6e4e832aa",
   "metadata": {},
   "outputs": [
    {
     "name": "stdout",
     "output_type": "stream",
     "text": [
      "1 2 3 4 5 6 7 8 9 10 11 12 13 14 15 16 17 18 19 20 21 22 23 24 25 "
     ]
    },
    {
     "data": {
      "image/png": "[encoded data removed]",
      "text/plain": [
       "<Figure size 640x480 with 1 Axes>"
      ]
     },
     "metadata": {},
     "output_type": "display_data"
    },
    {
     "name": "stdout",
     "output_type": "stream",
     "text": [
      "CPU times: user 25.2 s, sys: 645 ms, total: 25.8 s\n",
      "Wall time: 26.2 s\n"
     ]
    }
   ],
   "source": [
    "%%time\n",
    "import matplotlib.pyplot as plt\n",
    "max_k = 25\n",
    "x = [i for i in range(1, max_k + 1)]\n",
    "y = [calc_dispersion(dataset, i) for i in range(1, max_k + 1)]\n",
    "plt.plot(x,y)\n",
    "plt.xlabel(\"k\")\n",
    "plt.ylabel(\"Dispersión\")\n",
    "plt.show()"
   ]
  },
  {
   "cell_type": "markdown",
   "id": "6db310bb-2a02-42f6-92f4-2979a131f334",
   "metadata": {},
   "source": [
    "#### c)\n",
    "Ahora, utilizamos la librería`joblib`para hacer estos 25 cálculos en procesos paralelo"
   ]
  },
  {
   "cell_type": "code",
   "execution_count": 11,
   "id": "b5585209-fd79-415c-89f7-9da48a5af080",
   "metadata": {},
   "outputs": [],
   "source": [
    "from joblib import Parallel, delayed"
   ]
  },
  {
   "cell_type": "code",
   "execution_count": 21,
   "id": "68211206-6b40-4a5f-be92-154da5627b67",
   "metadata": {},
   "outputs": [],
   "source": [
    "no_numpy = [delayed(k_medias)(dataset, k) for k in range(1, 25)]\n",
    "with_numpy = [delayed(k_medias_numpy)(dataset, k) for k in range(1, 25)]"
   ]
  },
  {
   "cell_type": "code",
   "execution_count": 22,
   "id": "033d7fef-d2f2-4ac5-b863-6695e1c82211",
   "metadata": {},
   "outputs": [
    {
     "ename": "KeyboardInterrupt",
     "evalue": "",
     "output_type": "error",
     "traceback": [
      "\u001b[31m---------------------------------------------------------------------------\u001b[39m",
      "\u001b[31mKeyboardInterrupt\u001b[39m                         Traceback (most recent call last)",
      "\u001b[36mCell\u001b[39m\u001b[36m \u001b[39m\u001b[32mIn[22]\u001b[39m\u001b[32m, line 1\u001b[39m\n\u001b[32m----> \u001b[39m\u001b[32m1\u001b[39m \u001b[43mget_ipython\u001b[49m\u001b[43m(\u001b[49m\u001b[43m)\u001b[49m\u001b[43m.\u001b[49m\u001b[43mrun_cell_magic\u001b[49m\u001b[43m(\u001b[49m\u001b[33;43m'\u001b[39;49m\u001b[33;43mtime\u001b[39;49m\u001b[33;43m'\u001b[39;49m\u001b[43m,\u001b[49m\u001b[43m \u001b[49m\u001b[33;43m'\u001b[39;49m\u001b[33;43m'\u001b[39;49m\u001b[43m,\u001b[49m\u001b[43m \u001b[49m\u001b[33;43m\"\u001b[39;49m\u001b[33;43mbatch_size = \u001b[39;49m\u001b[33;43m'\u001b[39;49m\u001b[33;43mauto\u001b[39;49m\u001b[33;43m'\u001b[39;49m\u001b[38;5;130;43;01m\\n\u001b[39;49;00m\u001b[33;43mn_jobs = -1\u001b[39;49m\u001b[38;5;130;43;01m\\n\u001b[39;49;00m\u001b[33;43mwith Parallel(n_jobs=n_jobs, batch_size=batch_size, backend=\u001b[39;49m\u001b[33;43m'\u001b[39;49m\u001b[33;43mloky\u001b[39;49m\u001b[33;43m'\u001b[39;49m\u001b[33;43m) as parallel_pool:\u001b[39;49m\u001b[38;5;130;43;01m\\n\u001b[39;49;00m\u001b[33;43m    parallel_results = parallel_pool(no_numpy)\u001b[39;49m\u001b[38;5;130;43;01m\\n\u001b[39;49;00m\u001b[33;43m\"\u001b[39;49m\u001b[43m)\u001b[49m\n",
      "\u001b[36mFile \u001b[39m\u001b[32m~/.globenv/lib/python3.13/site-packages/IPython/core/interactiveshell.py:2547\u001b[39m, in \u001b[36mInteractiveShell.run_cell_magic\u001b[39m\u001b[34m(self, magic_name, line, cell)\u001b[39m\n\u001b[32m   2545\u001b[39m \u001b[38;5;28;01mwith\u001b[39;00m \u001b[38;5;28mself\u001b[39m.builtin_trap:\n\u001b[32m   2546\u001b[39m     args = (magic_arg_s, cell)\n\u001b[32m-> \u001b[39m\u001b[32m2547\u001b[39m     result = \u001b[43mfn\u001b[49m\u001b[43m(\u001b[49m\u001b[43m*\u001b[49m\u001b[43margs\u001b[49m\u001b[43m,\u001b[49m\u001b[43m \u001b[49m\u001b[43m*\u001b[49m\u001b[43m*\u001b[49m\u001b[43mkwargs\u001b[49m\u001b[43m)\u001b[49m\n\u001b[32m   2549\u001b[39m \u001b[38;5;66;03m# The code below prevents the output from being displayed\u001b[39;00m\n\u001b[32m   2550\u001b[39m \u001b[38;5;66;03m# when using magics with decorator @output_can_be_silenced\u001b[39;00m\n\u001b[32m   2551\u001b[39m \u001b[38;5;66;03m# when the last Python token in the expression is a ';'.\u001b[39;00m\n\u001b[32m   2552\u001b[39m \u001b[38;5;28;01mif\u001b[39;00m \u001b[38;5;28mgetattr\u001b[39m(fn, magic.MAGIC_OUTPUT_CAN_BE_SILENCED, \u001b[38;5;28;01mFalse\u001b[39;00m):\n",
      "\u001b[36mFile \u001b[39m\u001b[32m~/.globenv/lib/python3.13/site-packages/IPython/core/magics/execution.py:1390\u001b[39m, in \u001b[36mExecutionMagics.time\u001b[39m\u001b[34m(self, line, cell, local_ns)\u001b[39m\n\u001b[32m   1388\u001b[39m st = clock2()\n\u001b[32m   1389\u001b[39m \u001b[38;5;28;01mtry\u001b[39;00m:\n\u001b[32m-> \u001b[39m\u001b[32m1390\u001b[39m     \u001b[43mexec\u001b[49m\u001b[43m(\u001b[49m\u001b[43mcode\u001b[49m\u001b[43m,\u001b[49m\u001b[43m \u001b[49m\u001b[43mglob\u001b[49m\u001b[43m,\u001b[49m\u001b[43m \u001b[49m\u001b[43mlocal_ns\u001b[49m\u001b[43m)\u001b[49m\n\u001b[32m   1391\u001b[39m     out = \u001b[38;5;28;01mNone\u001b[39;00m\n\u001b[32m   1392\u001b[39m     \u001b[38;5;66;03m# multi-line %%time case\u001b[39;00m\n",
      "\u001b[36mFile \u001b[39m\u001b[32m<timed exec>:4\u001b[39m\n",
      "\u001b[36mFile \u001b[39m\u001b[32m~/.globenv/lib/python3.13/site-packages/joblib/parallel.py:2072\u001b[39m, in \u001b[36mParallel.__call__\u001b[39m\u001b[34m(self, iterable)\u001b[39m\n\u001b[32m   2066\u001b[39m \u001b[38;5;66;03m# The first item from the output is blank, but it makes the interpreter\u001b[39;00m\n\u001b[32m   2067\u001b[39m \u001b[38;5;66;03m# progress until it enters the Try/Except block of the generator and\u001b[39;00m\n\u001b[32m   2068\u001b[39m \u001b[38;5;66;03m# reaches the first `yield` statement. This starts the asynchronous\u001b[39;00m\n\u001b[32m   2069\u001b[39m \u001b[38;5;66;03m# dispatch of the tasks to the workers.\u001b[39;00m\n\u001b[32m   2070\u001b[39m \u001b[38;5;28mnext\u001b[39m(output)\n\u001b[32m-> \u001b[39m\u001b[32m2072\u001b[39m \u001b[38;5;28;01mreturn\u001b[39;00m output \u001b[38;5;28;01mif\u001b[39;00m \u001b[38;5;28mself\u001b[39m.return_generator \u001b[38;5;28;01melse\u001b[39;00m \u001b[38;5;28;43mlist\u001b[39;49m\u001b[43m(\u001b[49m\u001b[43moutput\u001b[49m\u001b[43m)\u001b[49m\n",
      "\u001b[36mFile \u001b[39m\u001b[32m~/.globenv/lib/python3.13/site-packages/joblib/parallel.py:1682\u001b[39m, in \u001b[36mParallel._get_outputs\u001b[39m\u001b[34m(self, iterator, pre_dispatch)\u001b[39m\n\u001b[32m   1679\u001b[39m     \u001b[38;5;28;01myield\u001b[39;00m\n\u001b[32m   1681\u001b[39m     \u001b[38;5;28;01mwith\u001b[39;00m \u001b[38;5;28mself\u001b[39m._backend.retrieval_context():\n\u001b[32m-> \u001b[39m\u001b[32m1682\u001b[39m         \u001b[38;5;28;01myield from\u001b[39;00m \u001b[38;5;28mself\u001b[39m._retrieve()\n\u001b[32m   1684\u001b[39m \u001b[38;5;28;01mexcept\u001b[39;00m \u001b[38;5;167;01mGeneratorExit\u001b[39;00m:\n\u001b[32m   1685\u001b[39m     \u001b[38;5;66;03m# The generator has been garbage collected before being fully\u001b[39;00m\n\u001b[32m   1686\u001b[39m     \u001b[38;5;66;03m# consumed. This aborts the remaining tasks if possible and warn\u001b[39;00m\n\u001b[32m   1687\u001b[39m     \u001b[38;5;66;03m# the user if necessary.\u001b[39;00m\n\u001b[32m   1688\u001b[39m     \u001b[38;5;28mself\u001b[39m._exception = \u001b[38;5;28;01mTrue\u001b[39;00m\n",
      "\u001b[36mFile \u001b[39m\u001b[32m~/.globenv/lib/python3.13/site-packages/joblib/parallel.py:1800\u001b[39m, in \u001b[36mParallel._retrieve\u001b[39m\u001b[34m(self)\u001b[39m\n\u001b[32m   1789\u001b[39m \u001b[38;5;28;01mif\u001b[39;00m \u001b[38;5;28mself\u001b[39m.return_ordered:\n\u001b[32m   1790\u001b[39m     \u001b[38;5;66;03m# Case ordered: wait for completion (or error) of the next job\u001b[39;00m\n\u001b[32m   1791\u001b[39m     \u001b[38;5;66;03m# that have been dispatched and not retrieved yet. If no job\u001b[39;00m\n\u001b[32m   (...)\u001b[39m\u001b[32m   1795\u001b[39m     \u001b[38;5;66;03m# control only have to be done on the amount of time the next\u001b[39;00m\n\u001b[32m   1796\u001b[39m     \u001b[38;5;66;03m# dispatched job is pending.\u001b[39;00m\n\u001b[32m   1797\u001b[39m     \u001b[38;5;28;01mif\u001b[39;00m (nb_jobs == \u001b[32m0\u001b[39m) \u001b[38;5;129;01mor\u001b[39;00m (\n\u001b[32m   1798\u001b[39m         \u001b[38;5;28mself\u001b[39m._jobs[\u001b[32m0\u001b[39m].get_status(timeout=\u001b[38;5;28mself\u001b[39m.timeout) == TASK_PENDING\n\u001b[32m   1799\u001b[39m     ):\n\u001b[32m-> \u001b[39m\u001b[32m1800\u001b[39m         \u001b[43mtime\u001b[49m\u001b[43m.\u001b[49m\u001b[43msleep\u001b[49m\u001b[43m(\u001b[49m\u001b[32;43m0.01\u001b[39;49m\u001b[43m)\u001b[49m\n\u001b[32m   1801\u001b[39m         \u001b[38;5;28;01mcontinue\u001b[39;00m\n\u001b[32m   1803\u001b[39m \u001b[38;5;28;01melif\u001b[39;00m nb_jobs == \u001b[32m0\u001b[39m:\n\u001b[32m   1804\u001b[39m     \u001b[38;5;66;03m# Case unordered: jobs are added to the list of jobs to\u001b[39;00m\n\u001b[32m   1805\u001b[39m     \u001b[38;5;66;03m# retrieve `self._jobs` only once completed or in error, which\u001b[39;00m\n\u001b[32m   (...)\u001b[39m\u001b[32m   1811\u001b[39m     \u001b[38;5;66;03m# timeouts before any other dispatched job has completed and\u001b[39;00m\n\u001b[32m   1812\u001b[39m     \u001b[38;5;66;03m# been added to `self._jobs` to be retrieved.\u001b[39;00m\n",
      "\u001b[31mKeyboardInterrupt\u001b[39m: "
     ]
    }
   ],
   "source": [
    "# Esta celda se estaba demorando demasiado\n",
    "\n",
    "#%%time\n",
    "#batch_size = 'auto'\n",
    "#n_jobs = -1\n",
    "#with Parallel(n_jobs=n_jobs, batch_size=batch_size, backend='loky') as parallel_pool:\n",
    "#    parallel_results = parallel_pool(no_numpy)"
   ]
  },
  {
   "cell_type": "code",
   "execution_count": 17,
   "id": "1dfdc5e5-c96f-46aa-b5e4-d4a7dbdafc83",
   "metadata": {},
   "outputs": [
    {
     "name": "stdout",
     "output_type": "stream",
     "text": [
      "CPU times: user 120 ms, sys: 20.3 ms, total: 141 ms\n",
      "Wall time: 12.1 s\n"
     ]
    }
   ],
   "source": [
    "%%time\n",
    "batch_size = 'auto'\n",
    "n_jobs = -1\n",
    "with Parallel(n_jobs=n_jobs, batch_size=batch_size, backend='loky') as parallel_pool:\n",
    "    parallel_results = parallel_pool(with_numpy)"
   ]
  },
  {
   "cell_type": "markdown",
   "id": "e053b0a4-129d-4f3a-ad35-b8c041a33277",
   "metadata": {},
   "source": [
    "---\n",
    "### Pregunta 6\n",
    "#### a)\n",
    "Mi computador tiene\n"
   ]
  },
  {
   "cell_type": "code",
   "execution_count": 18,
   "id": "113b735b-ae41-402a-b1c6-844a0a3aa092",
   "metadata": {},
   "outputs": [
    {
     "name": "stdout",
     "output_type": "stream",
     "text": [
      "4\n"
     ]
    }
   ],
   "source": [
    "from joblib import cpu_count\n",
    "print(cpu_count())"
   ]
  },
  {
   "cell_type": "markdown",
   "id": "47ac871c-0ae4-466a-b33b-20572f2781ba",
   "metadata": {},
   "source": [
    "núcleos.\n",
    "#### b y d)\n",
    "A continuación se presenta un script que mide el tiempo de ejecución de los dos "
   ]
  },
  {
   "cell_type": "code",
   "execution_count": 19,
   "id": "b212a079-2856-44b3-bb62-14c1ef33fc9e",
   "metadata": {},
   "outputs": [],
   "source": []
  },
  {
   "cell_type": "code",
   "execution_count": 20,
   "id": "c222258f-08f0-4b35-84ba-89b4bec543cf",
   "metadata": {},
   "outputs": [
    {
     "name": "stdout",
     "output_type": "stream",
     "text": [
      "n_jobs 1: 23.189589023590088\n",
      "n_jobs 2: 13.877796411514282\n",
      "n_jobs 3: 12.674179553985596\n",
      "n_jobs 4: 11.36952805519104\n",
      "n_jobs 5: 10.388375759124756\n",
      "n_jobs 6: 10.250366926193237\n",
      "n_jobs 7: 10.41986608505249\n",
      "n_jobs 8: 10.815758228302002\n"
     ]
    },
    {
     "data": {
      "image/png": "[encoded data removed]",
      "text/plain": [
       "<Figure size 640x480 with 1 Axes>"
      ]
     },
     "metadata": {},
     "output_type": "display_data"
    },
    {
     "name": "stdout",
     "output_type": "stream",
     "text": [
      "CPU times: user 23.9 s, sys: 357 ms, total: 24.2 s\n",
      "Wall time: 1min 43s\n"
     ]
    }
   ],
   "source": [
    "%%time\n",
    "from time import time\n",
    "times_no_numpy, times_numpy = [], []\n",
    "jobs = [j for j in range(1, 9)]\n",
    "for j in jobs:\n",
    "    #print(\"n_jobs:\", n_jobs)\n",
    "    #print(\"no numpy\")\n",
    "    #start_no_numpy = time()\n",
    "    #with Parallel(n_jobs=n_jobs, batch_size=batch_size, backend='loky') as parallel_pool:\n",
    "    #    parallel_results = parallel_pool(disperssions_no_numpy)\n",
    "    #end_no_numpy = time() \n",
    "    #times_no_numpy.append(end_no_numpy - start_no_numpy)\n",
    "    \n",
    "    print(\"n_jobs\", j, end=\": \")\n",
    "    start_numpy = time()\n",
    "    with Parallel(n_jobs=j, backend='loky') as parallel_pool:\n",
    "        parallel_results = parallel_pool(with_numpy)\n",
    "    end_numpy = time() \n",
    "    total = end_numpy - start_numpy\n",
    "    times_numpy.append(total)\n",
    "    print(total)\n",
    "\n",
    "#plt.plot(jobs, times_no_numpy)\n",
    "plt.plot(jobs, times_numpy)\n",
    "\n",
    "plt.show()\n",
    "    "
   ]
  },
  {
   "cell_type": "markdown",
   "id": "9eaf3701-1989-4ec6-82ad-f55c9c02ead3",
   "metadata": {},
   "source": [
    "#### c)\n",
    "La imagen muestra el output de `htop` cuando vemos el árbol que corresponde al proceso asociado al cuaderno de jupyter. El comando fue corrido cuando se estaba ejecutando la celda anterior y habían 8 trabajadores asignados a la tarea. Efectivamente se observan 8 procesos que corresponden a los _pipes_ utilizados por joblib para ejecutar las 25 tareas en `with_numpy`\n",
    "\n",
    "![title](P6c.png)"
   ]
  },
  {
   "cell_type": "markdown",
   "id": "1c911678-0475-4299-9e89-90d8c99f6b26",
   "metadata": {},
   "source": [
    "#### e)\n",
    "Dado lo largo "
   ]
  },
  {
   "cell_type": "code",
   "execution_count": null,
   "id": "b55d4138-f8a0-4e82-9595-2ffce30a371f",
   "metadata": {},
   "outputs": [],
   "source": []
  }
 ],
 "metadata": {
  "kernelspec": {
   "display_name": "Python 3 (ipykernel)",
   "language": "python",
   "name": "python3"
  },
  "language_info": {
   "codemirror_mode": {
    "name": "ipython",
    "version": 3
   },
   "file_extension": ".py",
   "mimetype": "text/x-python",
   "name": "python",
   "nbconvert_exporter": "python",
   "pygments_lexer": "ipython3",
   "version": "3.13.5"
  }
 },
 "nbformat": 4,
 "nbformat_minor": 5
}
